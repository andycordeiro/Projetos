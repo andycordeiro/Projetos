{
 "cells": [
  {
   "cell_type": "markdown",
   "id": "39db0416",
   "metadata": {},
   "source": [
    "**Criando um código para obter as informações de latitude e longitude com a biblioteca GEOPY.**"
   ]
  },
  {
   "cell_type": "code",
   "execution_count": 16,
   "id": "7e2649ea",
   "metadata": {},
   "outputs": [
    {
     "name": "stdout",
     "output_type": "stream",
     "text": [
      "Requirement already satisfied: geopy in c:\\programdata\\anaconda3\\lib\\site-packages (2.4.1)Note: you may need to restart the kernel to use updated packages.\n",
      "\n",
      "Requirement already satisfied: geographiclib<3,>=1.52 in c:\\programdata\\anaconda3\\lib\\site-packages (from geopy) (2.0)\n"
     ]
    }
   ],
   "source": [
    "pip install geopy\n"
   ]
  },
  {
   "cell_type": "code",
   "execution_count": 17,
   "id": "d06b4af1",
   "metadata": {},
   "outputs": [],
   "source": [
    "import pandas as pd\n",
    "from geopy.geocoders import Nominatim"
   ]
  },
  {
   "cell_type": "code",
   "execution_count": 18,
   "id": "be6c8459",
   "metadata": {},
   "outputs": [
    {
     "name": "stdout",
     "output_type": "stream",
     "text": [
      "Latitude e Longitude: (-23.583618623870553, -46.67106067411692)\n",
      "Endereço Completo: 100, Rua Joaquim Floriano, Vila Olímpia, Itaim Bibi, São Paulo, Região Imediata de São Paulo, Região Metropolitana de São Paulo, Região Geográfica Intermediária de São Paulo, São Paulo, Região Sudeste, 04534-011, Brasil\n"
     ]
    }
   ],
   "source": [
    "geolocator = Nominatim(user_agent=\"my_geocoder\")\n",
    "\n",
    "endereco = \"Rua Joaquim Floriano, 100, São Paulo, Brazil\"\n",
    "\n",
    "localizacao = geolocator.geocode(endereco)\n",
    "\n",
    "print(\"Latitude e Longitude:\", (localizacao.latitude, localizacao.longitude))\n",
    "print(\"Endereço Completo:\", localizacao.address)\n"
   ]
  },
  {
   "cell_type": "markdown",
   "id": "64e7befe",
   "metadata": {},
   "source": [
    "Lista para buscar vários endereços em uma única consulta. "
   ]
  },
  {
   "cell_type": "code",
   "execution_count": 19,
   "id": "566b8f9c",
   "metadata": {},
   "outputs": [
    {
     "name": "stdout",
     "output_type": "stream",
     "text": [
      "Endereço: Rua Joaquim Floriano, 100, São Paulo, Brazil\n",
      "Latitude e Longitude: (-23.583618623870553, -46.67106067411692)\n",
      "Endereço Completo: 100, Rua Joaquim Floriano, Vila Olímpia, Itaim Bibi, São Paulo, Região Imediata de São Paulo, Região Metropolitana de São Paulo, Região Geográfica Intermediária de São Paulo, São Paulo, Região Sudeste, 04534-011, Brasil\n",
      "\n",
      "\n",
      "Endereço: Av. Paulista, São Paulo, Brazil\n",
      "Latitude e Longitude: (-23.5564923, -46.661817)\n",
      "Endereço Completo: Avenida Paulista, Consolação, São Paulo, Região Imediata de São Paulo, Região Metropolitana de São Paulo, Região Geográfica Intermediária de São Paulo, São Paulo, Região Sudeste, 01310-300, Brasil\n",
      "\n",
      "\n",
      "Endereço: Av. nossa senhora de Copacabana, Rio de Janeiro, Brazil\n",
      "Latitude e Longitude: (-22.9749126, -43.1894923)\n",
      "Endereço Completo: Avenida Nossa Senhora de Copacabana, Copacabana, Rio de Janeiro, Região Geográfica Imediata do Rio de Janeiro, Região Metropolitana do Rio de Janeiro, Região Geográfica Intermediária do Rio de Janeiro, Rio de Janeiro, Região Sudeste, 22031-000, Brasil\n",
      "\n",
      "\n"
     ]
    }
   ],
   "source": [
    "enderecos = [\n",
    "    \"Rua Joaquim Floriano, 100, São Paulo, Brazil\",\n",
    "    \"Av. Paulista, São Paulo, Brazil\",\n",
    "    \"Av. nossa senhora de Copacabana, Rio de Janeiro, Brazil\",\n",
    "]\n",
    "\n",
    "for endereco in enderecos:\n",
    "    localizacao = geolocator.geocode(endereco)\n",
    "\n",
    "    if localizacao is not None:\n",
    "        print(\"Endereço:\", endereco)\n",
    "        print(\"Latitude e Longitude:\", (localizacao.latitude, localizacao.longitude))\n",
    "        print(\"Endereço Completo:\", localizacao.address)\n",
    "        print(\"\\n\")\n",
    "    else:\n",
    "        print(f\"Não foi possível obter informações para o endereço: {endereco}\\n\")"
   ]
  },
  {
   "cell_type": "markdown",
   "id": "b2227542",
   "metadata": {},
   "source": [
    "Criando um código para salvar os dados em um dataframe"
   ]
  },
  {
   "cell_type": "code",
   "execution_count": 27,
   "id": "4549d18c",
   "metadata": {},
   "outputs": [
    {
     "name": "stderr",
     "output_type": "stream",
     "text": [
      "C:\\Users\\Anderson\\AppData\\Local\\Temp\\ipykernel_14948\\1156648410.py:14: FutureWarning: The frame.append method is deprecated and will be removed from pandas in a future version. Use pandas.concat instead.\n",
      "  dados_enderecos = dados_enderecos.append({\n",
      "C:\\Users\\Anderson\\AppData\\Local\\Temp\\ipykernel_14948\\1156648410.py:14: FutureWarning: The frame.append method is deprecated and will be removed from pandas in a future version. Use pandas.concat instead.\n",
      "  dados_enderecos = dados_enderecos.append({\n"
     ]
    },
    {
     "name": "stdout",
     "output_type": "stream",
     "text": [
      "Sucesso\n"
     ]
    },
    {
     "name": "stderr",
     "output_type": "stream",
     "text": [
      "C:\\Users\\Anderson\\AppData\\Local\\Temp\\ipykernel_14948\\1156648410.py:14: FutureWarning: The frame.append method is deprecated and will be removed from pandas in a future version. Use pandas.concat instead.\n",
      "  dados_enderecos = dados_enderecos.append({\n"
     ]
    }
   ],
   "source": [
    "enderecos = [\n",
    "    \"Rua Joaquim Floriano, 100, São Paulo, Brazil\",\n",
    "    \"Av. Paulista, São Paulo, Brazil\",\n",
    "    \"Praia de Copacabana, Rio de Janeiro, Brazil\",\n",
    "]\n",
    "\n",
    "dados_enderecos = pd.DataFrame(columns=[\"Endereço\", \"Latitude\", \"Longitude\"])\n",
    "\n",
    "geolocator = Nominatim(user_agent=\"my_geocoder\")\n",
    "for endereco in enderecos:\n",
    "    localizacao = geolocator.geocode(endereco)\n",
    "    \n",
    "    if localizacao is not None:\n",
    "        dados_enderecos = dados_enderecos.append({\n",
    "            \"Endereço\": endereco,\n",
    "            \"Latitude\": localizacao.latitude,\n",
    "            \"Longitude\": localizacao.longitude,\n",
    "        }, ignore_index=True)\n",
    "\n",
    "print(\"Sucesso\")\n"
   ]
  },
  {
   "cell_type": "code",
   "execution_count": 28,
   "id": "7250d21f",
   "metadata": {},
   "outputs": [
    {
     "data": {
      "text/html": [
       "<div>\n",
       "<style scoped>\n",
       "    .dataframe tbody tr th:only-of-type {\n",
       "        vertical-align: middle;\n",
       "    }\n",
       "\n",
       "    .dataframe tbody tr th {\n",
       "        vertical-align: top;\n",
       "    }\n",
       "\n",
       "    .dataframe thead th {\n",
       "        text-align: right;\n",
       "    }\n",
       "</style>\n",
       "<table border=\"1\" class=\"dataframe\">\n",
       "  <thead>\n",
       "    <tr style=\"text-align: right;\">\n",
       "      <th></th>\n",
       "      <th>Endereço</th>\n",
       "      <th>Latitude</th>\n",
       "      <th>Longitude</th>\n",
       "    </tr>\n",
       "  </thead>\n",
       "  <tbody>\n",
       "    <tr>\n",
       "      <th>0</th>\n",
       "      <td>Rua Joaquim Floriano, 100, São Paulo, Brazil</td>\n",
       "      <td>-23.583619</td>\n",
       "      <td>-46.671061</td>\n",
       "    </tr>\n",
       "    <tr>\n",
       "      <th>1</th>\n",
       "      <td>Av. Paulista, São Paulo, Brazil</td>\n",
       "      <td>-23.556492</td>\n",
       "      <td>-46.661817</td>\n",
       "    </tr>\n",
       "    <tr>\n",
       "      <th>2</th>\n",
       "      <td>Praia de Copacabana, Rio de Janeiro, Brazil</td>\n",
       "      <td>-22.975706</td>\n",
       "      <td>-43.186624</td>\n",
       "    </tr>\n",
       "  </tbody>\n",
       "</table>\n",
       "</div>"
      ],
      "text/plain": [
       "                                       Endereço   Latitude  Longitude\n",
       "0  Rua Joaquim Floriano, 100, São Paulo, Brazil -23.583619 -46.671061\n",
       "1               Av. Paulista, São Paulo, Brazil -23.556492 -46.661817\n",
       "2   Praia de Copacabana, Rio de Janeiro, Brazil -22.975706 -43.186624"
      ]
     },
     "execution_count": 28,
     "metadata": {},
     "output_type": "execute_result"
    }
   ],
   "source": [
    "dados_enderecos"
   ]
  },
  {
   "cell_type": "markdown",
   "id": "4eb50f28",
   "metadata": {},
   "source": [
    "Exportar o DataFrame para um arquivo Excel"
   ]
  },
  {
   "cell_type": "code",
   "execution_count": 22,
   "id": "175e933c",
   "metadata": {},
   "outputs": [],
   "source": [
    "dados_enderecos.to_excel(\"informacoes_enderecos.xlsx\", index=False)"
   ]
  }
 ],
 "metadata": {
  "kernelspec": {
   "display_name": "Python 3 (ipykernel)",
   "language": "python",
   "name": "python3"
  },
  "language_info": {
   "codemirror_mode": {
    "name": "ipython",
    "version": 3
   },
   "file_extension": ".py",
   "mimetype": "text/x-python",
   "name": "python",
   "nbconvert_exporter": "python",
   "pygments_lexer": "ipython3",
   "version": "3.10.9"
  }
 },
 "nbformat": 4,
 "nbformat_minor": 5
}
