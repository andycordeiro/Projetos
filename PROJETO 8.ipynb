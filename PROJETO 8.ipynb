{
 "cells": [
  {
   "cell_type": "markdown",
   "metadata": {},
   "source": [
    "# Descrição do Projeto\n",
    "\n",
    "**Análise Estatística de Negócio**\n",
    "\n",
    "Objetivo: Aumentar a receita de uma grande loja online através da análise de hipóteses propostas pelo departamento de marketing."
   ]
  },
  {
   "cell_type": "markdown",
   "metadata": {},
   "source": [
    "**Etapas do projeto:**\n",
    "\n",
    "Importar as bibliotecas: Pandas, Matplotlib, Statistics, Scipy, Math, statistics e datetime.\n",
    "\n",
    "Explorando dados: Vamos importar os dados sobre a loja online e as hipóteses, como informações de conversão, vendas, número de usuários e visitantes. \n",
    "\n",
    "Limpeza de dados: Identificar se há dados faltantes, outliers ou erros em nossos dataframes, e corrigi-los se necessário.\n",
    "\n",
    "Priorizando hipóteses: Juntamente com o departamento de marketing, temos uma lista de hipóteses compiladas que podem ajudar a aumentar a receita.\n",
    "\n",
    "Teste A/B: Definir um grupo A e um grupo B, aplicar as mudanças propostas na hipótese apenas no grupo B e acompanhar a conversão e a receita de ambos os grupos.\n",
    "\n",
    "Análise de resultados: Será calculado a significância estatística da diferença na conversão entre os grupos usando testes como t-test ou Mann-Whitney U Test. Verificar se há uma diferença significativa na conversão e na receita.\n",
    "\n",
    "Visualização de dados: Utilizando a biblioteca Matplotlib para plotar gráficos de linhas, gráficos de barras ou gráficos de dispersão para visualizar as mudanças na conversão e na receita.\n",
    "\n",
    "Conclusão: Analisar os resultados, verificar qual das hipóteses teve o maior impacto na conversão e na receita e priorizar as hipóteses que devem ser implementadas na loja online.\n"
   ]
  },
  {
   "cell_type": "markdown",
   "metadata": {},
   "source": [
    "## Importando Dados e Bibliotecas\n"
   ]
  },
  {
   "cell_type": "code",
   "execution_count": 146,
   "metadata": {},
   "outputs": [],
   "source": [
    "import pandas as pd\n",
    "import numpy as np\n",
    "import warnings\n",
    "warnings.filterwarnings('ignore')\n",
    "import math\n",
    "import matplotlib.pyplot as plt\n",
    "import seaborn as sns\n",
    "from scipy import stats as st\n",
    "import statistics\n",
    "import datetime as dt"
   ]
  },
  {
   "cell_type": "code",
   "execution_count": 147,
   "metadata": {},
   "outputs": [],
   "source": [
    "import pandas as pd\n",
    "\n",
    "hypotheses = pd.read_csv('/datasets/hypotheses_us.csv', sep=';')\n",
    "\n",
    "orders = pd.read_csv('/datasets/orders_us.csv')\n",
    "\n",
    "visits = pd.read_csv('/datasets/visits_us.csv')"
   ]
  },
  {
   "cell_type": "markdown",
   "metadata": {},
   "source": [
    "### Explorando os Dados"
   ]
  },
  {
   "cell_type": "code",
   "execution_count": 148,
   "metadata": {},
   "outputs": [
    {
     "name": "stdout",
     "output_type": "stream",
     "text": [
      "<class 'pandas.core.frame.DataFrame'>\n",
      "RangeIndex: 9 entries, 0 to 8\n",
      "Data columns (total 5 columns):\n",
      " #   Column      Non-Null Count  Dtype \n",
      "---  ------      --------------  ----- \n",
      " 0   Hypothesis  9 non-null      object\n",
      " 1   Reach       9 non-null      int64 \n",
      " 2   Impact      9 non-null      int64 \n",
      " 3   Confidence  9 non-null      int64 \n",
      " 4   Effort      9 non-null      int64 \n",
      "dtypes: int64(4), object(1)\n",
      "memory usage: 488.0+ bytes\n"
     ]
    }
   ],
   "source": [
    "hypotheses.info()"
   ]
  },
  {
   "cell_type": "code",
   "execution_count": 149,
   "metadata": {},
   "outputs": [
    {
     "name": "stdout",
     "output_type": "stream",
     "text": [
      "<class 'pandas.core.frame.DataFrame'>\n",
      "RangeIndex: 1197 entries, 0 to 1196\n",
      "Data columns (total 5 columns):\n",
      " #   Column         Non-Null Count  Dtype  \n",
      "---  ------         --------------  -----  \n",
      " 0   transactionId  1197 non-null   int64  \n",
      " 1   visitorId      1197 non-null   int64  \n",
      " 2   date           1197 non-null   object \n",
      " 3   revenue        1197 non-null   float64\n",
      " 4   group          1197 non-null   object \n",
      "dtypes: float64(1), int64(2), object(2)\n",
      "memory usage: 46.9+ KB\n"
     ]
    }
   ],
   "source": [
    "orders.info()"
   ]
  },
  {
   "cell_type": "code",
   "execution_count": 150,
   "metadata": {},
   "outputs": [
    {
     "name": "stdout",
     "output_type": "stream",
     "text": [
      "<class 'pandas.core.frame.DataFrame'>\n",
      "RangeIndex: 62 entries, 0 to 61\n",
      "Data columns (total 3 columns):\n",
      " #   Column  Non-Null Count  Dtype \n",
      "---  ------  --------------  ----- \n",
      " 0   date    62 non-null     object\n",
      " 1   group   62 non-null     object\n",
      " 2   visits  62 non-null     int64 \n",
      "dtypes: int64(1), object(2)\n",
      "memory usage: 1.6+ KB\n"
     ]
    }
   ],
   "source": [
    "visits.info()"
   ]
  },
  {
   "cell_type": "code",
   "execution_count": 151,
   "metadata": {},
   "outputs": [
    {
     "data": {
      "text/html": [
       "<div>\n",
       "<style scoped>\n",
       "    .dataframe tbody tr th:only-of-type {\n",
       "        vertical-align: middle;\n",
       "    }\n",
       "\n",
       "    .dataframe tbody tr th {\n",
       "        vertical-align: top;\n",
       "    }\n",
       "\n",
       "    .dataframe thead th {\n",
       "        text-align: right;\n",
       "    }\n",
       "</style>\n",
       "<table border=\"1\" class=\"dataframe\">\n",
       "  <thead>\n",
       "    <tr style=\"text-align: right;\">\n",
       "      <th></th>\n",
       "      <th>Hypothesis</th>\n",
       "      <th>Reach</th>\n",
       "      <th>Impact</th>\n",
       "      <th>Confidence</th>\n",
       "      <th>Effort</th>\n",
       "    </tr>\n",
       "  </thead>\n",
       "  <tbody>\n",
       "    <tr>\n",
       "      <th>0</th>\n",
       "      <td>Add two new channels for attracting traffic. T...</td>\n",
       "      <td>3</td>\n",
       "      <td>10</td>\n",
       "      <td>8</td>\n",
       "      <td>6</td>\n",
       "    </tr>\n",
       "    <tr>\n",
       "      <th>1</th>\n",
       "      <td>Launch your own delivery service. This will sh...</td>\n",
       "      <td>2</td>\n",
       "      <td>5</td>\n",
       "      <td>4</td>\n",
       "      <td>10</td>\n",
       "    </tr>\n",
       "    <tr>\n",
       "      <th>2</th>\n",
       "      <td>Add product recommendation blocks to the store...</td>\n",
       "      <td>8</td>\n",
       "      <td>3</td>\n",
       "      <td>7</td>\n",
       "      <td>3</td>\n",
       "    </tr>\n",
       "    <tr>\n",
       "      <th>3</th>\n",
       "      <td>Change the category structure. This will incre...</td>\n",
       "      <td>8</td>\n",
       "      <td>3</td>\n",
       "      <td>3</td>\n",
       "      <td>8</td>\n",
       "    </tr>\n",
       "    <tr>\n",
       "      <th>4</th>\n",
       "      <td>Change the background color on the main page. ...</td>\n",
       "      <td>3</td>\n",
       "      <td>1</td>\n",
       "      <td>1</td>\n",
       "      <td>1</td>\n",
       "    </tr>\n",
       "    <tr>\n",
       "      <th>5</th>\n",
       "      <td>Add a customer review page. This will increase...</td>\n",
       "      <td>3</td>\n",
       "      <td>2</td>\n",
       "      <td>2</td>\n",
       "      <td>3</td>\n",
       "    </tr>\n",
       "    <tr>\n",
       "      <th>6</th>\n",
       "      <td>Show banners with current offers and sales on ...</td>\n",
       "      <td>5</td>\n",
       "      <td>3</td>\n",
       "      <td>8</td>\n",
       "      <td>3</td>\n",
       "    </tr>\n",
       "    <tr>\n",
       "      <th>7</th>\n",
       "      <td>Add a subscription form to all the main pages....</td>\n",
       "      <td>10</td>\n",
       "      <td>7</td>\n",
       "      <td>8</td>\n",
       "      <td>5</td>\n",
       "    </tr>\n",
       "    <tr>\n",
       "      <th>8</th>\n",
       "      <td>Launch a promotion that gives users discounts ...</td>\n",
       "      <td>1</td>\n",
       "      <td>9</td>\n",
       "      <td>9</td>\n",
       "      <td>5</td>\n",
       "    </tr>\n",
       "  </tbody>\n",
       "</table>\n",
       "</div>"
      ],
      "text/plain": [
       "                                          Hypothesis  Reach  Impact  \\\n",
       "0  Add two new channels for attracting traffic. T...      3      10   \n",
       "1  Launch your own delivery service. This will sh...      2       5   \n",
       "2  Add product recommendation blocks to the store...      8       3   \n",
       "3  Change the category structure. This will incre...      8       3   \n",
       "4  Change the background color on the main page. ...      3       1   \n",
       "5  Add a customer review page. This will increase...      3       2   \n",
       "6  Show banners with current offers and sales on ...      5       3   \n",
       "7  Add a subscription form to all the main pages....     10       7   \n",
       "8  Launch a promotion that gives users discounts ...      1       9   \n",
       "\n",
       "   Confidence  Effort  \n",
       "0           8       6  \n",
       "1           4      10  \n",
       "2           7       3  \n",
       "3           3       8  \n",
       "4           1       1  \n",
       "5           2       3  \n",
       "6           8       3  \n",
       "7           8       5  \n",
       "8           9       5  "
      ]
     },
     "execution_count": 151,
     "metadata": {},
     "output_type": "execute_result"
    }
   ],
   "source": [
    "hypotheses"
   ]
  },
  {
   "cell_type": "code",
   "execution_count": 152,
   "metadata": {},
   "outputs": [
    {
     "data": {
      "text/html": [
       "<div>\n",
       "<style scoped>\n",
       "    .dataframe tbody tr th:only-of-type {\n",
       "        vertical-align: middle;\n",
       "    }\n",
       "\n",
       "    .dataframe tbody tr th {\n",
       "        vertical-align: top;\n",
       "    }\n",
       "\n",
       "    .dataframe thead th {\n",
       "        text-align: right;\n",
       "    }\n",
       "</style>\n",
       "<table border=\"1\" class=\"dataframe\">\n",
       "  <thead>\n",
       "    <tr style=\"text-align: right;\">\n",
       "      <th></th>\n",
       "      <th>Reach</th>\n",
       "      <th>Impact</th>\n",
       "      <th>Confidence</th>\n",
       "      <th>Effort</th>\n",
       "    </tr>\n",
       "  </thead>\n",
       "  <tbody>\n",
       "    <tr>\n",
       "      <th>count</th>\n",
       "      <td>9.000000</td>\n",
       "      <td>9.000000</td>\n",
       "      <td>9.000000</td>\n",
       "      <td>9.000000</td>\n",
       "    </tr>\n",
       "    <tr>\n",
       "      <th>mean</th>\n",
       "      <td>4.777778</td>\n",
       "      <td>4.777778</td>\n",
       "      <td>5.555556</td>\n",
       "      <td>4.888889</td>\n",
       "    </tr>\n",
       "    <tr>\n",
       "      <th>std</th>\n",
       "      <td>3.153481</td>\n",
       "      <td>3.192874</td>\n",
       "      <td>3.045944</td>\n",
       "      <td>2.803767</td>\n",
       "    </tr>\n",
       "    <tr>\n",
       "      <th>min</th>\n",
       "      <td>1.000000</td>\n",
       "      <td>1.000000</td>\n",
       "      <td>1.000000</td>\n",
       "      <td>1.000000</td>\n",
       "    </tr>\n",
       "    <tr>\n",
       "      <th>25%</th>\n",
       "      <td>3.000000</td>\n",
       "      <td>3.000000</td>\n",
       "      <td>3.000000</td>\n",
       "      <td>3.000000</td>\n",
       "    </tr>\n",
       "    <tr>\n",
       "      <th>50%</th>\n",
       "      <td>3.000000</td>\n",
       "      <td>3.000000</td>\n",
       "      <td>7.000000</td>\n",
       "      <td>5.000000</td>\n",
       "    </tr>\n",
       "    <tr>\n",
       "      <th>75%</th>\n",
       "      <td>8.000000</td>\n",
       "      <td>7.000000</td>\n",
       "      <td>8.000000</td>\n",
       "      <td>6.000000</td>\n",
       "    </tr>\n",
       "    <tr>\n",
       "      <th>max</th>\n",
       "      <td>10.000000</td>\n",
       "      <td>10.000000</td>\n",
       "      <td>9.000000</td>\n",
       "      <td>10.000000</td>\n",
       "    </tr>\n",
       "  </tbody>\n",
       "</table>\n",
       "</div>"
      ],
      "text/plain": [
       "           Reach     Impact  Confidence     Effort\n",
       "count   9.000000   9.000000    9.000000   9.000000\n",
       "mean    4.777778   4.777778    5.555556   4.888889\n",
       "std     3.153481   3.192874    3.045944   2.803767\n",
       "min     1.000000   1.000000    1.000000   1.000000\n",
       "25%     3.000000   3.000000    3.000000   3.000000\n",
       "50%     3.000000   3.000000    7.000000   5.000000\n",
       "75%     8.000000   7.000000    8.000000   6.000000\n",
       "max    10.000000  10.000000    9.000000  10.000000"
      ]
     },
     "execution_count": 152,
     "metadata": {},
     "output_type": "execute_result"
    }
   ],
   "source": [
    "hypotheses.describe()"
   ]
  },
  {
   "cell_type": "code",
   "execution_count": 153,
   "metadata": {},
   "outputs": [
    {
     "data": {
      "text/html": [
       "<div>\n",
       "<style scoped>\n",
       "    .dataframe tbody tr th:only-of-type {\n",
       "        vertical-align: middle;\n",
       "    }\n",
       "\n",
       "    .dataframe tbody tr th {\n",
       "        vertical-align: top;\n",
       "    }\n",
       "\n",
       "    .dataframe thead th {\n",
       "        text-align: right;\n",
       "    }\n",
       "</style>\n",
       "<table border=\"1\" class=\"dataframe\">\n",
       "  <thead>\n",
       "    <tr style=\"text-align: right;\">\n",
       "      <th></th>\n",
       "      <th>transactionId</th>\n",
       "      <th>visitorId</th>\n",
       "      <th>date</th>\n",
       "      <th>revenue</th>\n",
       "      <th>group</th>\n",
       "    </tr>\n",
       "  </thead>\n",
       "  <tbody>\n",
       "    <tr>\n",
       "      <th>0</th>\n",
       "      <td>3667963787</td>\n",
       "      <td>3312258926</td>\n",
       "      <td>2019-08-15</td>\n",
       "      <td>30.4</td>\n",
       "      <td>B</td>\n",
       "    </tr>\n",
       "    <tr>\n",
       "      <th>1</th>\n",
       "      <td>2804400009</td>\n",
       "      <td>3642806036</td>\n",
       "      <td>2019-08-15</td>\n",
       "      <td>15.2</td>\n",
       "      <td>B</td>\n",
       "    </tr>\n",
       "    <tr>\n",
       "      <th>2</th>\n",
       "      <td>2961555356</td>\n",
       "      <td>4069496402</td>\n",
       "      <td>2019-08-15</td>\n",
       "      <td>10.2</td>\n",
       "      <td>A</td>\n",
       "    </tr>\n",
       "    <tr>\n",
       "      <th>3</th>\n",
       "      <td>3797467345</td>\n",
       "      <td>1196621759</td>\n",
       "      <td>2019-08-15</td>\n",
       "      <td>155.1</td>\n",
       "      <td>B</td>\n",
       "    </tr>\n",
       "    <tr>\n",
       "      <th>4</th>\n",
       "      <td>2282983706</td>\n",
       "      <td>2322279887</td>\n",
       "      <td>2019-08-15</td>\n",
       "      <td>40.5</td>\n",
       "      <td>B</td>\n",
       "    </tr>\n",
       "  </tbody>\n",
       "</table>\n",
       "</div>"
      ],
      "text/plain": [
       "   transactionId   visitorId        date  revenue group\n",
       "0     3667963787  3312258926  2019-08-15     30.4     B\n",
       "1     2804400009  3642806036  2019-08-15     15.2     B\n",
       "2     2961555356  4069496402  2019-08-15     10.2     A\n",
       "3     3797467345  1196621759  2019-08-15    155.1     B\n",
       "4     2282983706  2322279887  2019-08-15     40.5     B"
      ]
     },
     "execution_count": 153,
     "metadata": {},
     "output_type": "execute_result"
    }
   ],
   "source": [
    "orders.head()"
   ]
  },
  {
   "cell_type": "code",
   "execution_count": 154,
   "metadata": {},
   "outputs": [
    {
     "data": {
      "text/html": [
       "<div>\n",
       "<style scoped>\n",
       "    .dataframe tbody tr th:only-of-type {\n",
       "        vertical-align: middle;\n",
       "    }\n",
       "\n",
       "    .dataframe tbody tr th {\n",
       "        vertical-align: top;\n",
       "    }\n",
       "\n",
       "    .dataframe thead th {\n",
       "        text-align: right;\n",
       "    }\n",
       "</style>\n",
       "<table border=\"1\" class=\"dataframe\">\n",
       "  <thead>\n",
       "    <tr style=\"text-align: right;\">\n",
       "      <th></th>\n",
       "      <th>transactionId</th>\n",
       "      <th>visitorId</th>\n",
       "      <th>date</th>\n",
       "      <th>revenue</th>\n",
       "      <th>group</th>\n",
       "    </tr>\n",
       "  </thead>\n",
       "  <tbody>\n",
       "    <tr>\n",
       "      <th>1192</th>\n",
       "      <td>2662137336</td>\n",
       "      <td>3733762160</td>\n",
       "      <td>2019-08-14</td>\n",
       "      <td>100.8</td>\n",
       "      <td>B</td>\n",
       "    </tr>\n",
       "    <tr>\n",
       "      <th>1193</th>\n",
       "      <td>2203539145</td>\n",
       "      <td>370388673</td>\n",
       "      <td>2019-08-14</td>\n",
       "      <td>50.1</td>\n",
       "      <td>A</td>\n",
       "    </tr>\n",
       "    <tr>\n",
       "      <th>1194</th>\n",
       "      <td>1807773912</td>\n",
       "      <td>573423106</td>\n",
       "      <td>2019-08-14</td>\n",
       "      <td>165.3</td>\n",
       "      <td>A</td>\n",
       "    </tr>\n",
       "    <tr>\n",
       "      <th>1195</th>\n",
       "      <td>1947021204</td>\n",
       "      <td>1614305549</td>\n",
       "      <td>2019-08-14</td>\n",
       "      <td>5.5</td>\n",
       "      <td>A</td>\n",
       "    </tr>\n",
       "    <tr>\n",
       "      <th>1196</th>\n",
       "      <td>3936777065</td>\n",
       "      <td>2108080724</td>\n",
       "      <td>2019-08-15</td>\n",
       "      <td>3120.1</td>\n",
       "      <td>B</td>\n",
       "    </tr>\n",
       "  </tbody>\n",
       "</table>\n",
       "</div>"
      ],
      "text/plain": [
       "      transactionId   visitorId        date  revenue group\n",
       "1192     2662137336  3733762160  2019-08-14    100.8     B\n",
       "1193     2203539145   370388673  2019-08-14     50.1     A\n",
       "1194     1807773912   573423106  2019-08-14    165.3     A\n",
       "1195     1947021204  1614305549  2019-08-14      5.5     A\n",
       "1196     3936777065  2108080724  2019-08-15   3120.1     B"
      ]
     },
     "execution_count": 154,
     "metadata": {},
     "output_type": "execute_result"
    }
   ],
   "source": [
    "orders.tail()"
   ]
  },
  {
   "cell_type": "code",
   "execution_count": 155,
   "metadata": {},
   "outputs": [
    {
     "data": {
      "text/html": [
       "<div>\n",
       "<style scoped>\n",
       "    .dataframe tbody tr th:only-of-type {\n",
       "        vertical-align: middle;\n",
       "    }\n",
       "\n",
       "    .dataframe tbody tr th {\n",
       "        vertical-align: top;\n",
       "    }\n",
       "\n",
       "    .dataframe thead th {\n",
       "        text-align: right;\n",
       "    }\n",
       "</style>\n",
       "<table border=\"1\" class=\"dataframe\">\n",
       "  <thead>\n",
       "    <tr style=\"text-align: right;\">\n",
       "      <th></th>\n",
       "      <th>transactionId</th>\n",
       "      <th>visitorId</th>\n",
       "      <th>date</th>\n",
       "      <th>revenue</th>\n",
       "      <th>group</th>\n",
       "    </tr>\n",
       "  </thead>\n",
       "  <tbody>\n",
       "    <tr>\n",
       "      <th>996</th>\n",
       "      <td>1998112401</td>\n",
       "      <td>1900893596</td>\n",
       "      <td>2019-08-31</td>\n",
       "      <td>5.5</td>\n",
       "      <td>A</td>\n",
       "    </tr>\n",
       "    <tr>\n",
       "      <th>948</th>\n",
       "      <td>3462663151</td>\n",
       "      <td>2158146269</td>\n",
       "      <td>2019-08-21</td>\n",
       "      <td>70.9</td>\n",
       "      <td>A</td>\n",
       "    </tr>\n",
       "    <tr>\n",
       "      <th>94</th>\n",
       "      <td>252633006</td>\n",
       "      <td>457167155</td>\n",
       "      <td>2019-08-22</td>\n",
       "      <td>95.8</td>\n",
       "      <td>B</td>\n",
       "    </tr>\n",
       "    <tr>\n",
       "      <th>321</th>\n",
       "      <td>1775445570</td>\n",
       "      <td>3118528100</td>\n",
       "      <td>2019-08-19</td>\n",
       "      <td>20.8</td>\n",
       "      <td>A</td>\n",
       "    </tr>\n",
       "    <tr>\n",
       "      <th>528</th>\n",
       "      <td>1543948528</td>\n",
       "      <td>492739583</td>\n",
       "      <td>2019-08-19</td>\n",
       "      <td>15.5</td>\n",
       "      <td>A</td>\n",
       "    </tr>\n",
       "    <tr>\n",
       "      <th>501</th>\n",
       "      <td>50573571</td>\n",
       "      <td>152397976</td>\n",
       "      <td>2019-08-04</td>\n",
       "      <td>10.5</td>\n",
       "      <td>B</td>\n",
       "    </tr>\n",
       "    <tr>\n",
       "      <th>1075</th>\n",
       "      <td>4261512099</td>\n",
       "      <td>4178309188</td>\n",
       "      <td>2019-08-12</td>\n",
       "      <td>50.8</td>\n",
       "      <td>B</td>\n",
       "    </tr>\n",
       "    <tr>\n",
       "      <th>273</th>\n",
       "      <td>1769257333</td>\n",
       "      <td>2278620397</td>\n",
       "      <td>2019-08-23</td>\n",
       "      <td>525.6</td>\n",
       "      <td>B</td>\n",
       "    </tr>\n",
       "    <tr>\n",
       "      <th>899</th>\n",
       "      <td>2159858322</td>\n",
       "      <td>2283224496</td>\n",
       "      <td>2019-08-27</td>\n",
       "      <td>35.5</td>\n",
       "      <td>A</td>\n",
       "    </tr>\n",
       "    <tr>\n",
       "      <th>521</th>\n",
       "      <td>641338041</td>\n",
       "      <td>623318263</td>\n",
       "      <td>2019-08-26</td>\n",
       "      <td>165.6</td>\n",
       "      <td>B</td>\n",
       "    </tr>\n",
       "    <tr>\n",
       "      <th>755</th>\n",
       "      <td>1234615529</td>\n",
       "      <td>2279926127</td>\n",
       "      <td>2019-08-30</td>\n",
       "      <td>705.3</td>\n",
       "      <td>B</td>\n",
       "    </tr>\n",
       "    <tr>\n",
       "      <th>179</th>\n",
       "      <td>1784270968</td>\n",
       "      <td>2378935119</td>\n",
       "      <td>2019-08-17</td>\n",
       "      <td>5.8</td>\n",
       "      <td>A</td>\n",
       "    </tr>\n",
       "    <tr>\n",
       "      <th>790</th>\n",
       "      <td>3455897155</td>\n",
       "      <td>2065143173</td>\n",
       "      <td>2019-08-30</td>\n",
       "      <td>10.4</td>\n",
       "      <td>A</td>\n",
       "    </tr>\n",
       "    <tr>\n",
       "      <th>1175</th>\n",
       "      <td>1373388206</td>\n",
       "      <td>3717692402</td>\n",
       "      <td>2019-08-14</td>\n",
       "      <td>40.9</td>\n",
       "      <td>B</td>\n",
       "    </tr>\n",
       "    <tr>\n",
       "      <th>962</th>\n",
       "      <td>3024416906</td>\n",
       "      <td>530257481</td>\n",
       "      <td>2019-08-10</td>\n",
       "      <td>300.3</td>\n",
       "      <td>B</td>\n",
       "    </tr>\n",
       "  </tbody>\n",
       "</table>\n",
       "</div>"
      ],
      "text/plain": [
       "      transactionId   visitorId        date  revenue group\n",
       "996      1998112401  1900893596  2019-08-31      5.5     A\n",
       "948      3462663151  2158146269  2019-08-21     70.9     A\n",
       "94        252633006   457167155  2019-08-22     95.8     B\n",
       "321      1775445570  3118528100  2019-08-19     20.8     A\n",
       "528      1543948528   492739583  2019-08-19     15.5     A\n",
       "501        50573571   152397976  2019-08-04     10.5     B\n",
       "1075     4261512099  4178309188  2019-08-12     50.8     B\n",
       "273      1769257333  2278620397  2019-08-23    525.6     B\n",
       "899      2159858322  2283224496  2019-08-27     35.5     A\n",
       "521       641338041   623318263  2019-08-26    165.6     B\n",
       "755      1234615529  2279926127  2019-08-30    705.3     B\n",
       "179      1784270968  2378935119  2019-08-17      5.8     A\n",
       "790      3455897155  2065143173  2019-08-30     10.4     A\n",
       "1175     1373388206  3717692402  2019-08-14     40.9     B\n",
       "962      3024416906   530257481  2019-08-10    300.3     B"
      ]
     },
     "execution_count": 155,
     "metadata": {},
     "output_type": "execute_result"
    }
   ],
   "source": [
    "orders.sample(15)"
   ]
  },
  {
   "cell_type": "code",
   "execution_count": 156,
   "metadata": {},
   "outputs": [
    {
     "data": {
      "text/plain": [
       "transactionId    0\n",
       "visitorId        0\n",
       "date             0\n",
       "revenue          0\n",
       "group            0\n",
       "dtype: int64"
      ]
     },
     "execution_count": 156,
     "metadata": {},
     "output_type": "execute_result"
    }
   ],
   "source": [
    "orders.isnull().sum()"
   ]
  },
  {
   "cell_type": "markdown",
   "metadata": {},
   "source": [
    "Não há valores ausentes no dataframe 'orders'"
   ]
  },
  {
   "cell_type": "code",
   "execution_count": 157,
   "metadata": {},
   "outputs": [
    {
     "data": {
      "text/html": [
       "<div>\n",
       "<style scoped>\n",
       "    .dataframe tbody tr th:only-of-type {\n",
       "        vertical-align: middle;\n",
       "    }\n",
       "\n",
       "    .dataframe tbody tr th {\n",
       "        vertical-align: top;\n",
       "    }\n",
       "\n",
       "    .dataframe thead th {\n",
       "        text-align: right;\n",
       "    }\n",
       "</style>\n",
       "<table border=\"1\" class=\"dataframe\">\n",
       "  <thead>\n",
       "    <tr style=\"text-align: right;\">\n",
       "      <th></th>\n",
       "      <th>date</th>\n",
       "      <th>group</th>\n",
       "      <th>visits</th>\n",
       "    </tr>\n",
       "  </thead>\n",
       "  <tbody>\n",
       "    <tr>\n",
       "      <th>0</th>\n",
       "      <td>2019-08-01</td>\n",
       "      <td>A</td>\n",
       "      <td>719</td>\n",
       "    </tr>\n",
       "    <tr>\n",
       "      <th>1</th>\n",
       "      <td>2019-08-02</td>\n",
       "      <td>A</td>\n",
       "      <td>619</td>\n",
       "    </tr>\n",
       "    <tr>\n",
       "      <th>2</th>\n",
       "      <td>2019-08-03</td>\n",
       "      <td>A</td>\n",
       "      <td>507</td>\n",
       "    </tr>\n",
       "    <tr>\n",
       "      <th>3</th>\n",
       "      <td>2019-08-04</td>\n",
       "      <td>A</td>\n",
       "      <td>717</td>\n",
       "    </tr>\n",
       "    <tr>\n",
       "      <th>4</th>\n",
       "      <td>2019-08-05</td>\n",
       "      <td>A</td>\n",
       "      <td>756</td>\n",
       "    </tr>\n",
       "  </tbody>\n",
       "</table>\n",
       "</div>"
      ],
      "text/plain": [
       "         date group  visits\n",
       "0  2019-08-01     A     719\n",
       "1  2019-08-02     A     619\n",
       "2  2019-08-03     A     507\n",
       "3  2019-08-04     A     717\n",
       "4  2019-08-05     A     756"
      ]
     },
     "execution_count": 157,
     "metadata": {},
     "output_type": "execute_result"
    }
   ],
   "source": [
    "visits.head()"
   ]
  },
  {
   "cell_type": "code",
   "execution_count": 158,
   "metadata": {},
   "outputs": [
    {
     "data": {
      "text/html": [
       "<div>\n",
       "<style scoped>\n",
       "    .dataframe tbody tr th:only-of-type {\n",
       "        vertical-align: middle;\n",
       "    }\n",
       "\n",
       "    .dataframe tbody tr th {\n",
       "        vertical-align: top;\n",
       "    }\n",
       "\n",
       "    .dataframe thead th {\n",
       "        text-align: right;\n",
       "    }\n",
       "</style>\n",
       "<table border=\"1\" class=\"dataframe\">\n",
       "  <thead>\n",
       "    <tr style=\"text-align: right;\">\n",
       "      <th></th>\n",
       "      <th>date</th>\n",
       "      <th>group</th>\n",
       "      <th>visits</th>\n",
       "    </tr>\n",
       "  </thead>\n",
       "  <tbody>\n",
       "    <tr>\n",
       "      <th>57</th>\n",
       "      <td>2019-08-27</td>\n",
       "      <td>B</td>\n",
       "      <td>720</td>\n",
       "    </tr>\n",
       "    <tr>\n",
       "      <th>58</th>\n",
       "      <td>2019-08-28</td>\n",
       "      <td>B</td>\n",
       "      <td>654</td>\n",
       "    </tr>\n",
       "    <tr>\n",
       "      <th>59</th>\n",
       "      <td>2019-08-29</td>\n",
       "      <td>B</td>\n",
       "      <td>531</td>\n",
       "    </tr>\n",
       "    <tr>\n",
       "      <th>60</th>\n",
       "      <td>2019-08-30</td>\n",
       "      <td>B</td>\n",
       "      <td>490</td>\n",
       "    </tr>\n",
       "    <tr>\n",
       "      <th>61</th>\n",
       "      <td>2019-08-31</td>\n",
       "      <td>B</td>\n",
       "      <td>718</td>\n",
       "    </tr>\n",
       "  </tbody>\n",
       "</table>\n",
       "</div>"
      ],
      "text/plain": [
       "          date group  visits\n",
       "57  2019-08-27     B     720\n",
       "58  2019-08-28     B     654\n",
       "59  2019-08-29     B     531\n",
       "60  2019-08-30     B     490\n",
       "61  2019-08-31     B     718"
      ]
     },
     "execution_count": 158,
     "metadata": {},
     "output_type": "execute_result"
    }
   ],
   "source": [
    "visits.tail()"
   ]
  },
  {
   "cell_type": "code",
   "execution_count": 159,
   "metadata": {},
   "outputs": [
    {
     "data": {
      "text/plain": [
       "date      0\n",
       "group     0\n",
       "visits    0\n",
       "dtype: int64"
      ]
     },
     "execution_count": 159,
     "metadata": {},
     "output_type": "execute_result"
    }
   ],
   "source": [
    "visits.isna().sum()"
   ]
  },
  {
   "cell_type": "markdown",
   "metadata": {},
   "source": [
    "Sem dados ausentes em 'visits'"
   ]
  },
  {
   "cell_type": "code",
   "execution_count": 160,
   "metadata": {},
   "outputs": [
    {
     "data": {
      "text/html": [
       "<div>\n",
       "<style scoped>\n",
       "    .dataframe tbody tr th:only-of-type {\n",
       "        vertical-align: middle;\n",
       "    }\n",
       "\n",
       "    .dataframe tbody tr th {\n",
       "        vertical-align: top;\n",
       "    }\n",
       "\n",
       "    .dataframe thead th {\n",
       "        text-align: right;\n",
       "    }\n",
       "</style>\n",
       "<table border=\"1\" class=\"dataframe\">\n",
       "  <thead>\n",
       "    <tr style=\"text-align: right;\">\n",
       "      <th></th>\n",
       "      <th>date</th>\n",
       "      <th>group</th>\n",
       "      <th>visits</th>\n",
       "    </tr>\n",
       "  </thead>\n",
       "  <tbody>\n",
       "    <tr>\n",
       "      <th>16</th>\n",
       "      <td>2019-08-17</td>\n",
       "      <td>A</td>\n",
       "      <td>412</td>\n",
       "    </tr>\n",
       "    <tr>\n",
       "      <th>30</th>\n",
       "      <td>2019-08-31</td>\n",
       "      <td>A</td>\n",
       "      <td>699</td>\n",
       "    </tr>\n",
       "    <tr>\n",
       "      <th>37</th>\n",
       "      <td>2019-08-07</td>\n",
       "      <td>B</td>\n",
       "      <td>709</td>\n",
       "    </tr>\n",
       "    <tr>\n",
       "      <th>3</th>\n",
       "      <td>2019-08-04</td>\n",
       "      <td>A</td>\n",
       "      <td>717</td>\n",
       "    </tr>\n",
       "    <tr>\n",
       "      <th>14</th>\n",
       "      <td>2019-08-15</td>\n",
       "      <td>A</td>\n",
       "      <td>628</td>\n",
       "    </tr>\n",
       "    <tr>\n",
       "      <th>43</th>\n",
       "      <td>2019-08-13</td>\n",
       "      <td>B</td>\n",
       "      <td>769</td>\n",
       "    </tr>\n",
       "    <tr>\n",
       "      <th>51</th>\n",
       "      <td>2019-08-21</td>\n",
       "      <td>B</td>\n",
       "      <td>656</td>\n",
       "    </tr>\n",
       "    <tr>\n",
       "      <th>4</th>\n",
       "      <td>2019-08-05</td>\n",
       "      <td>A</td>\n",
       "      <td>756</td>\n",
       "    </tr>\n",
       "    <tr>\n",
       "      <th>12</th>\n",
       "      <td>2019-08-13</td>\n",
       "      <td>A</td>\n",
       "      <td>748</td>\n",
       "    </tr>\n",
       "    <tr>\n",
       "      <th>20</th>\n",
       "      <td>2019-08-21</td>\n",
       "      <td>A</td>\n",
       "      <td>646</td>\n",
       "    </tr>\n",
       "    <tr>\n",
       "      <th>33</th>\n",
       "      <td>2019-08-03</td>\n",
       "      <td>B</td>\n",
       "      <td>509</td>\n",
       "    </tr>\n",
       "    <tr>\n",
       "      <th>1</th>\n",
       "      <td>2019-08-02</td>\n",
       "      <td>A</td>\n",
       "      <td>619</td>\n",
       "    </tr>\n",
       "    <tr>\n",
       "      <th>32</th>\n",
       "      <td>2019-08-02</td>\n",
       "      <td>B</td>\n",
       "      <td>581</td>\n",
       "    </tr>\n",
       "    <tr>\n",
       "      <th>29</th>\n",
       "      <td>2019-08-30</td>\n",
       "      <td>A</td>\n",
       "      <td>490</td>\n",
       "    </tr>\n",
       "    <tr>\n",
       "      <th>41</th>\n",
       "      <td>2019-08-11</td>\n",
       "      <td>B</td>\n",
       "      <td>721</td>\n",
       "    </tr>\n",
       "  </tbody>\n",
       "</table>\n",
       "</div>"
      ],
      "text/plain": [
       "          date group  visits\n",
       "16  2019-08-17     A     412\n",
       "30  2019-08-31     A     699\n",
       "37  2019-08-07     B     709\n",
       "3   2019-08-04     A     717\n",
       "14  2019-08-15     A     628\n",
       "43  2019-08-13     B     769\n",
       "51  2019-08-21     B     656\n",
       "4   2019-08-05     A     756\n",
       "12  2019-08-13     A     748\n",
       "20  2019-08-21     A     646\n",
       "33  2019-08-03     B     509\n",
       "1   2019-08-02     A     619\n",
       "32  2019-08-02     B     581\n",
       "29  2019-08-30     A     490\n",
       "41  2019-08-11     B     721"
      ]
     },
     "execution_count": 160,
     "metadata": {},
     "output_type": "execute_result"
    }
   ],
   "source": [
    "visits.sample(15)"
   ]
  },
  {
   "cell_type": "code",
   "execution_count": 161,
   "metadata": {},
   "outputs": [
    {
     "name": "stdout",
     "output_type": "stream",
     "text": [
      "Número de duplicatas no DataFrame 'orders': 0\n",
      "Número de duplicatas no DataFrame 'visits': 0\n"
     ]
    }
   ],
   "source": [
    "duplicates_orders = orders.duplicated().sum()\n",
    "print(f\"Número de duplicatas no DataFrame 'orders': {duplicates_orders}\")\n",
    "\n",
    "duplicates_visits = visits.duplicated().sum()\n",
    "print(f\"Número de duplicatas no DataFrame 'visits': {duplicates_visits}\")"
   ]
  },
  {
   "cell_type": "code",
   "execution_count": 162,
   "metadata": {},
   "outputs": [
    {
     "data": {
      "text/plain": [
       "B    640\n",
       "A    557\n",
       "Name: group, dtype: int64"
      ]
     },
     "execution_count": 162,
     "metadata": {},
     "output_type": "execute_result"
    }
   ],
   "source": [
    "orders['group'].value_counts()"
   ]
  },
  {
   "cell_type": "markdown",
   "metadata": {},
   "source": [
    "Há uma desigualdade relativamente considerável entre os grupos que podem causar algum desiquilíbrio na interpretação dos dados."
   ]
  },
  {
   "cell_type": "code",
   "execution_count": 163,
   "metadata": {},
   "outputs": [
    {
     "data": {
      "text/plain": [
       "B    31\n",
       "A    31\n",
       "Name: group, dtype: int64"
      ]
     },
     "execution_count": 163,
     "metadata": {},
     "output_type": "execute_result"
    }
   ],
   "source": [
    "visits['group'].value_counts()"
   ]
  },
  {
   "cell_type": "markdown",
   "metadata": {},
   "source": [
    "### Alterando os tipos dos dados"
   ]
  },
  {
   "cell_type": "code",
   "execution_count": 164,
   "metadata": {},
   "outputs": [],
   "source": [
    "orders['date']=pd.to_datetime(orders['date'], format='%Y-%m-%d')\n",
    "visits['date']=pd.to_datetime(visits['date'], format='%Y-%m-%d')"
   ]
  },
  {
   "cell_type": "markdown",
   "metadata": {},
   "source": [
    "## Parte 1: Priorizando Hipóteses "
   ]
  },
  {
   "cell_type": "markdown",
   "metadata": {},
   "source": [
    "O dataframe 'hypotheses' contém 9 hipóteses propostas pelo setor de Marketing para o aumento de receita, vamos aplicar o framework 'ICE' e 'RICE' para priorizar hipóteses e encontrar as hipóteses que precisam ser priorizadas. "
   ]
  },
  {
   "cell_type": "code",
   "execution_count": 165,
   "metadata": {},
   "outputs": [
    {
     "data": {
      "text/html": [
       "<div>\n",
       "<style scoped>\n",
       "    .dataframe tbody tr th:only-of-type {\n",
       "        vertical-align: middle;\n",
       "    }\n",
       "\n",
       "    .dataframe tbody tr th {\n",
       "        vertical-align: top;\n",
       "    }\n",
       "\n",
       "    .dataframe thead th {\n",
       "        text-align: right;\n",
       "    }\n",
       "</style>\n",
       "<table border=\"1\" class=\"dataframe\">\n",
       "  <thead>\n",
       "    <tr style=\"text-align: right;\">\n",
       "      <th></th>\n",
       "      <th>Hypothesis</th>\n",
       "      <th>Reach</th>\n",
       "      <th>Impact</th>\n",
       "      <th>Confidence</th>\n",
       "      <th>Effort</th>\n",
       "    </tr>\n",
       "  </thead>\n",
       "  <tbody>\n",
       "    <tr>\n",
       "      <th>0</th>\n",
       "      <td>Add two new channels for attracting traffic. T...</td>\n",
       "      <td>3</td>\n",
       "      <td>10</td>\n",
       "      <td>8</td>\n",
       "      <td>6</td>\n",
       "    </tr>\n",
       "    <tr>\n",
       "      <th>1</th>\n",
       "      <td>Launch your own delivery service. This will sh...</td>\n",
       "      <td>2</td>\n",
       "      <td>5</td>\n",
       "      <td>4</td>\n",
       "      <td>10</td>\n",
       "    </tr>\n",
       "    <tr>\n",
       "      <th>2</th>\n",
       "      <td>Add product recommendation blocks to the store...</td>\n",
       "      <td>8</td>\n",
       "      <td>3</td>\n",
       "      <td>7</td>\n",
       "      <td>3</td>\n",
       "    </tr>\n",
       "    <tr>\n",
       "      <th>3</th>\n",
       "      <td>Change the category structure. This will incre...</td>\n",
       "      <td>8</td>\n",
       "      <td>3</td>\n",
       "      <td>3</td>\n",
       "      <td>8</td>\n",
       "    </tr>\n",
       "    <tr>\n",
       "      <th>4</th>\n",
       "      <td>Change the background color on the main page. ...</td>\n",
       "      <td>3</td>\n",
       "      <td>1</td>\n",
       "      <td>1</td>\n",
       "      <td>1</td>\n",
       "    </tr>\n",
       "    <tr>\n",
       "      <th>5</th>\n",
       "      <td>Add a customer review page. This will increase...</td>\n",
       "      <td>3</td>\n",
       "      <td>2</td>\n",
       "      <td>2</td>\n",
       "      <td>3</td>\n",
       "    </tr>\n",
       "    <tr>\n",
       "      <th>6</th>\n",
       "      <td>Show banners with current offers and sales on ...</td>\n",
       "      <td>5</td>\n",
       "      <td>3</td>\n",
       "      <td>8</td>\n",
       "      <td>3</td>\n",
       "    </tr>\n",
       "    <tr>\n",
       "      <th>7</th>\n",
       "      <td>Add a subscription form to all the main pages....</td>\n",
       "      <td>10</td>\n",
       "      <td>7</td>\n",
       "      <td>8</td>\n",
       "      <td>5</td>\n",
       "    </tr>\n",
       "    <tr>\n",
       "      <th>8</th>\n",
       "      <td>Launch a promotion that gives users discounts ...</td>\n",
       "      <td>1</td>\n",
       "      <td>9</td>\n",
       "      <td>9</td>\n",
       "      <td>5</td>\n",
       "    </tr>\n",
       "  </tbody>\n",
       "</table>\n",
       "</div>"
      ],
      "text/plain": [
       "                                          Hypothesis  Reach  Impact  \\\n",
       "0  Add two new channels for attracting traffic. T...      3      10   \n",
       "1  Launch your own delivery service. This will sh...      2       5   \n",
       "2  Add product recommendation blocks to the store...      8       3   \n",
       "3  Change the category structure. This will incre...      8       3   \n",
       "4  Change the background color on the main page. ...      3       1   \n",
       "5  Add a customer review page. This will increase...      3       2   \n",
       "6  Show banners with current offers and sales on ...      5       3   \n",
       "7  Add a subscription form to all the main pages....     10       7   \n",
       "8  Launch a promotion that gives users discounts ...      1       9   \n",
       "\n",
       "   Confidence  Effort  \n",
       "0           8       6  \n",
       "1           4      10  \n",
       "2           7       3  \n",
       "3           3       8  \n",
       "4           1       1  \n",
       "5           2       3  \n",
       "6           8       3  \n",
       "7           8       5  \n",
       "8           9       5  "
      ]
     },
     "execution_count": 165,
     "metadata": {},
     "output_type": "execute_result"
    }
   ],
   "source": [
    "hypotheses"
   ]
  },
  {
   "cell_type": "markdown",
   "metadata": {},
   "source": [
    "### ICE "
   ]
  },
  {
   "cell_type": "code",
   "execution_count": 166,
   "metadata": {},
   "outputs": [
    {
     "name": "stdout",
     "output_type": "stream",
     "text": [
      "                                          Hypothesis        ICE\n",
      "8  Launch a promotion that gives users discounts ...  16.200000\n",
      "0  Add two new channels for attracting traffic. T...  13.333333\n",
      "7  Add a subscription form to all the main pages....  11.200000\n",
      "6  Show banners with current offers and sales on ...   8.000000\n",
      "2  Add product recommendation blocks to the store...   7.000000\n",
      "1  Launch your own delivery service. This will sh...   2.000000\n",
      "5  Add a customer review page. This will increase...   1.333333\n",
      "3  Change the category structure. This will incre...   1.125000\n",
      "4  Change the background color on the main page. ...   1.000000\n"
     ]
    }
   ],
   "source": [
    "hypotheses['ICE'] = (hypotheses['Impact']*hypotheses['Confidence'])/hypotheses['Effort']\n",
    "\n",
    "print(hypotheses[['Hypothesis', 'ICE']].sort_values(by='ICE', ascending=False))"
   ]
  },
  {
   "cell_type": "markdown",
   "metadata": {},
   "source": [
    "**Resultados do Framework ICE**\n",
    "\n",
    "**Hipótese 9: Launch a promotion that gives users discounts:** Tem o maior valor de ICE (16.2), isso sugere que essa hipótese possui um grande potencial, dada a combinação de alto impacto e confiança, com um esforço relativamente menor.\n",
    "\n",
    "**Hipótese 1: Add two new channels for attracting traffic:** Apresenta o segundo maior valor de ICE (13.33). Embora tenha um esforço um pouco maior que a hipótese com o maior ICE, seu potencial de impacto e confiança ainda o coloca em alta prioridade.\n",
    "\n",
    "**Hipótese 8: Add a subscription form to all the main pages:** Possui um valor de ICE considerável (11.2), indicando um bom potencial de impacto em relação ao esforço necessário."
   ]
  },
  {
   "cell_type": "markdown",
   "metadata": {},
   "source": [
    "### RICE"
   ]
  },
  {
   "cell_type": "code",
   "execution_count": 167,
   "metadata": {},
   "outputs": [
    {
     "name": "stdout",
     "output_type": "stream",
     "text": [
      "                                          Hypothesis   RICE\n",
      "7  Add a subscription form to all the main pages....  112.0\n",
      "2  Add product recommendation blocks to the store...   56.0\n",
      "0  Add two new channels for attracting traffic. T...   40.0\n",
      "6  Show banners with current offers and sales on ...   40.0\n",
      "8  Launch a promotion that gives users discounts ...   16.2\n",
      "3  Change the category structure. This will incre...    9.0\n",
      "1  Launch your own delivery service. This will sh...    4.0\n",
      "5  Add a customer review page. This will increase...    4.0\n",
      "4  Change the background color on the main page. ...    3.0\n"
     ]
    }
   ],
   "source": [
    "hypotheses['RICE'] = (hypotheses['Reach']*hypotheses['Impact']*hypotheses['Confidence'])/hypotheses['Effort']\n",
    "print(hypotheses[['Hypothesis', 'RICE']].sort_values(by='RICE', ascending=False))"
   ]
  },
  {
   "cell_type": "markdown",
   "metadata": {},
   "source": [
    "**Resultados do framework RICE:**\n",
    "\n",
    "**Hipótese 8: Add a subscription form to all the main pages:** Tem o maior valor de RICE (112.0). Isso é devido ao alto potencial de impacto em conjunto com um amplo alcance. Mesmo com um esforço moderado, seu alcance elevado o coloca em prioridade.\n",
    "\n",
    "**Hipótese 3: Add product recommendation blocks to the store:** Com um RICE de 56.0, esta hipótese possui um potencial considerável de impacto e um alcance significativo.\n",
    "\n",
    "**Hipótese 1: Add two new channels for attracting traffic:** Apresenta um RICE de 40.0. Embora tenha um impacto e confiança elevados, seu alcance pode ser menor em comparação com outras hipóteses.\n",
    "\n",
    "Recomendo a implementação da Hipótese 8, pois tem um alto de impacto e um grande potencial para o aumento da receita, acredito que essa hipótese trará resultados significativos. "
   ]
  },
  {
   "cell_type": "markdown",
   "metadata": {},
   "source": [
    "## Parte 2: Análise  Teste A/B"
   ]
  },
  {
   "cell_type": "markdown",
   "metadata": {},
   "source": [
    "### Receita Acumulada por grupo"
   ]
  },
  {
   "cell_type": "code",
   "execution_count": 168,
   "metadata": {},
   "outputs": [
    {
     "data": {
      "image/png": "[encoded data removed]",
      "text/plain": [
       "<Figure size 720x432 with 1 Axes>"
      ]
     },
     "metadata": {
      "needs_background": "light"
     },
     "output_type": "display_data"
    }
   ],
   "source": [
    "grouped_orders = orders.groupby(['date', 'group']).agg({'revenue': 'sum'}).groupby('group').cumsum().reset_index()\n",
    "grouped_orders.drop_duplicates()\n",
    "\n",
    "plt.figure(figsize=(10, 6))\n",
    "\n",
    "for group, data in grouped_orders.groupby('group'):\n",
    "    plt.plot(data['date'], data['revenue'], label=group)\n",
    "\n",
    "plt.xlabel('Data')\n",
    "plt.ylabel('Receita Acumulada')\n",
    "plt.title('Receita Acumulada por Grupo ao Longo do Tempo')\n",
    "plt.legend()\n",
    "plt.grid(True)\n",
    "plt.show()"
   ]
  },
  {
   "cell_type": "markdown",
   "metadata": {},
   "source": [
    "O Grupo B tem uma receita acumulado maior e talvez isso seja por conta da quantidade superior de dados no grupo B. "
   ]
  },
  {
   "cell_type": "code",
   "execution_count": 169,
   "metadata": {},
   "outputs": [
    {
     "name": "stdout",
     "output_type": "stream",
     "text": [
      "p-value:  0.0\n",
      "Rejeitando a hipótese nula: há uma diferença significativa entre as proporções\n"
     ]
    }
   ],
   "source": [
    "alpha = 0.05\n",
    "\n",
    "A = orders[orders['group'] == 'A']\n",
    "B = orders[orders['group'] == 'B']\n",
    "\n",
    "p1 = A['revenue'].sum() / A['visitorId'].count()\n",
    "p2 = B['revenue'].sum() / B['visitorId'].count()\n",
    "\n",
    "pv1 = A['visitorId'].count()\n",
    "pv2 = B['visitorId'].count()\n",
    "\n",
    "p_combined = (p1 + p2) / (pv1 + pv2)\n",
    "\n",
    "difference = p1 - p2\n",
    "\n",
    "z_value = difference / math.sqrt(p_combined * (1 - p_combined) * (1/pv1 + 1/pv2))\n",
    "\n",
    "distr = st.norm(0,1)\n",
    "\n",
    "p_value = (1 - distr.cdf(abs(z_value))) * 2 \n",
    "\n",
    "print('p-value: ', p_value)\n",
    "\n",
    "if (p_value < alpha):\n",
    "    print(\"Rejeitando a hipótese nula: há uma diferença significativa entre as proporções\")\n",
    "else:\n",
    "    print(\"Falha ao rejeitar a hipótese nula: não há motivo para considerar as proporções diferentes\")"
   ]
  },
  {
   "cell_type": "markdown",
   "metadata": {},
   "source": [
    "### Tamanho médio acumulado por Grupo:"
   ]
  },
  {
   "cell_type": "code",
   "execution_count": 170,
   "metadata": {},
   "outputs": [
    {
     "data": {
      "image/png": "[encoded data removed]",
      "text/plain": [
       "<Figure size 720x432 with 1 Axes>"
      ]
     },
     "metadata": {
      "needs_background": "light"
     },
     "output_type": "display_data"
    }
   ],
   "source": [
    "orders['avg_order_size'] = orders['revenue'] / orders.groupby('date')['transactionId'].transform('count')\n",
    "\n",
    "grouped_orders = orders.groupby(['date', 'group']).agg({'avg_order_size': 'mean'}).groupby('group').cumsum().reset_index()\n",
    "\n",
    "plt.figure(figsize=(10, 6))\n",
    "\n",
    "for group, data in grouped_orders.groupby('group'):\n",
    "    plt.plot(data['date'], data['avg_order_size'], label=group)\n",
    "\n",
    "plt.xlabel('Data')\n",
    "plt.ylabel('Tamanho Médio Acumulado do Pedido')\n",
    "plt.title('Tamanho Médio Acumulado do Pedido por Grupo ao Longo do Tempo')\n",
    "plt.legend()\n",
    "plt.grid(True)\n",
    "plt.show()"
   ]
  },
  {
   "cell_type": "markdown",
   "metadata": {},
   "source": [
    "Podemos observar que pelo tamanho médio, vemos que em um curto período o Grupo A teve um desempenho melhor porém na grande parte o Grupo B teve o acumulado médio superior. "
   ]
  },
  {
   "cell_type": "markdown",
   "metadata": {},
   "source": [
    "### Diferença relativa entre o grupo A e B: "
   ]
  },
  {
   "cell_type": "code",
   "execution_count": 171,
   "metadata": {},
   "outputs": [
    {
     "data": {
      "image/png": "[encoded data removed]",
      "text/plain": [
       "<Figure size 720x432 with 1 Axes>"
      ]
     },
     "metadata": {
      "needs_background": "light"
     },
     "output_type": "display_data"
    }
   ],
   "source": [
    "orders['avg_order_size'] = orders['revenue'] / orders.groupby('date')['transactionId'].transform('count')\n",
    "\n",
    "grouped_orders = orders.groupby(['date', 'group']).agg({'avg_order_size': 'mean'}).groupby('group').cumsum().reset_index()\n",
    "\n",
    "pivot_orders = grouped_orders.pivot(index='date', columns='group', values='avg_order_size').reset_index()\n",
    "pivot_orders['Difference'] = (pivot_orders['B'] - pivot_orders['A']) / pivot_orders['A'] * 100\n",
    "\n",
    "plt.figure(figsize=(10, 6))\n",
    "\n",
    "plt.plot(pivot_orders['date'], pivot_orders['Difference'], color='blue')\n",
    "\n",
    "plt.axhline(y=0, color='black', linestyle='--')\n",
    "plt.xlabel('')\n",
    "plt.ylabel('Diferença Relativa (%)')\n",
    "plt.title('Diferença Relativa no Tamanho Médio do Pedido entre Grupo B e Grupo A')\n",
    "plt.grid(True)\n",
    "plt.show()"
   ]
  },
  {
   "cell_type": "markdown",
   "metadata": {},
   "source": [
    "Podemos notar que houve uma mudança no desempenho relativo dos grupos ao longo do tempo, indicando que o grupo B aumentou seu tamanho médio acumulado de pedido e superou o grupo A a partir de um determinado ponto, mantendo essa vantagem durante a maior parte do período analisado. "
   ]
  },
  {
   "cell_type": "markdown",
   "metadata": {},
   "source": [
    "### Taxa de Conversão Diária "
   ]
  },
  {
   "cell_type": "code",
   "execution_count": 172,
   "metadata": {},
   "outputs": [
    {
     "data": {
      "image/png": "[encoded data removed]",
      "text/plain": [
       "<Figure size 1008x432 with 1 Axes>"
      ]
     },
     "metadata": {
      "needs_background": "light"
     },
     "output_type": "display_data"
    }
   ],
   "source": [
    "orders['date'] = pd.to_datetime(orders['date'])\n",
    "visits['date'] = pd.to_datetime(visits['date'])\n",
    "\n",
    "orders_count = orders.groupby(['date', 'group'])['transactionId'].count().reset_index()\n",
    "orders_count = orders_count.rename(columns={'transactionId': 'orders'})\n",
    "\n",
    "visits_count = visits.groupby(['date', 'group'])['visits'].sum().reset_index()\n",
    "merged_data = pd.merge(orders_count, visits_count, on=['date', 'group'])\n",
    "merged_data['conversion_rate'] = merged_data['orders'] / merged_data['visits']\n",
    "\n",
    "group_A = merged_data[merged_data['group'] == 'A']\n",
    "group_B = merged_data[merged_data['group'] == 'B']\n",
    "\n",
    "plt.figure(figsize=(14, 6))\n",
    "\n",
    "plt.plot(group_A['date'], group_A['conversion_rate'], label='Group A')\n",
    "plt.plot(group_B['date'], group_B['conversion_rate'], label='Group B')\n",
    "\n",
    "plt.xlabel('')\n",
    "plt.ylabel('Taxa de Conversão')\n",
    "plt.title('Taxa de Conversão Diária por Grupo')\n",
    "plt.legend()\n",
    "plt.grid(False)\n",
    "plt.show()"
   ]
  },
  {
   "cell_type": "markdown",
   "metadata": {},
   "source": [
    "### Taxa de Conversão ao longo do tempo:"
   ]
  },
  {
   "cell_type": "code",
   "execution_count": 173,
   "metadata": {},
   "outputs": [
    {
     "data": {
      "image/png": "[encoded data removed]",
      "text/plain": [
       "<Figure size 720x432 with 1 Axes>"
      ]
     },
     "metadata": {
      "needs_background": "light"
     },
     "output_type": "display_data"
    }
   ],
   "source": [
    "orders_cumsum = orders.groupby(['date', 'group'])['transactionId'].count().groupby(level=1).cumsum().reset_index()\n",
    "orders_cumsum = orders_cumsum.rename(columns={'transactionId': 'orders_cumulative'})\n",
    "\n",
    "visits_cumsum = visits.groupby(['date', 'group'])['visits'].sum().groupby(level=1).cumsum().reset_index()\n",
    "visits_cumsum = visits_cumsum.rename(columns={'visits': 'visits_cumulative'})\n",
    "\n",
    "merged_data_cumulative = pd.merge(orders_cumsum, visits_cumsum, on=['date', 'group'])\n",
    "merged_data_cumulative['conversion_rate_cumulative'] = merged_data_cumulative['orders_cumulative'] / merged_data_cumulative['visits_cumulative']\n",
    "\n",
    "group_A_cumulative = merged_data_cumulative[merged_data_cumulative['group'] == 'A']\n",
    "group_B_cumulative = merged_data_cumulative[merged_data_cumulative['group'] == 'B']\n",
    "\n",
    "plt.figure(figsize=(10, 6))\n",
    "\n",
    "plt.plot(group_A_cumulative['date'], group_A_cumulative['conversion_rate_cumulative'], label='Group A')\n",
    "plt.plot(group_B_cumulative['date'], group_B_cumulative['conversion_rate_cumulative'], label='Group B')\n",
    "\n",
    "plt.xlabel('')\n",
    "plt.ylabel('Taxa de Conversão')\n",
    "plt.title('Grupo \"B\" com uma conversão acumulada melhor ao Longo do Tempo')\n",
    "plt.legend()\n",
    "plt.grid(False)\n",
    "plt.show()"
   ]
  },
  {
   "cell_type": "markdown",
   "metadata": {},
   "source": [
    "No diário a diferença não fica tão clara como no acumulado ao longo do tempo onde podemos notar o aumento significativo que houve na conversão do Grupo B. "
   ]
  },
  {
   "cell_type": "markdown",
   "metadata": {},
   "source": [
    "### Pedidos por Usuário:"
   ]
  },
  {
   "cell_type": "code",
   "execution_count": 174,
   "metadata": {},
   "outputs": [
    {
     "data": {
      "image/png": "[encoded data removed]",
      "text/plain": [
       "<Figure size 720x432 with 1 Axes>"
      ]
     },
     "metadata": {
      "needs_background": "light"
     },
     "output_type": "display_data"
    }
   ],
   "source": [
    "orders_per_user = orders.groupby('visitorId')['transactionId'].count().reset_index()\n",
    "orders_per_user.columns = ['visitorId', 'num_orders']\n",
    "\n",
    "plt.figure(figsize=(10, 6))\n",
    "plt.scatter(orders_per_user['visitorId'], orders_per_user['num_orders'], alpha=0.5)\n",
    "plt.title('Número de Pedidos por Usuário')\n",
    "plt.xlabel('ID do Usuário')\n",
    "plt.ylabel('Número de Pedidos')\n",
    "plt.grid(True)\n",
    "plt.show()"
   ]
  },
  {
   "cell_type": "markdown",
   "metadata": {},
   "source": [
    "Podemos observar que grande parte dos clientes realizaram 1 a 3 pedidos durante o período observado, mas temos clients que realizaram mais pedido, alguns realizaram mais de 8 pedidos durante o período. "
   ]
  },
  {
   "cell_type": "markdown",
   "metadata": {},
   "source": [
    "### Número de Pedidos por Usuário: Definindo Anomalias"
   ]
  },
  {
   "cell_type": "code",
   "execution_count": 175,
   "metadata": {},
   "outputs": [
    {
     "data": {
      "image/png": "[encoded data removed]",
      "text/plain": [
       "<Figure size 432x288 with 1 Axes>"
      ]
     },
     "metadata": {
      "needs_background": "light"
     },
     "output_type": "display_data"
    }
   ],
   "source": [
    "plt.hist(orders_per_user['num_orders']);\n"
   ]
  },
  {
   "cell_type": "code",
   "execution_count": 176,
   "metadata": {},
   "outputs": [
    {
     "name": "stdout",
     "output_type": "stream",
     "text": [
      "[1. 2. 4.]\n"
     ]
    }
   ],
   "source": [
    "print(np.percentile(orders_per_user['num_orders'], [90, 95, 99])) "
   ]
  },
  {
   "cell_type": "markdown",
   "metadata": {},
   "source": [
    "95% dos usuários realizaram até 2 pedidos no mês e somente 1% realizou 4 ou mais pedidos durante o período. Podemos concluir que 4 ou mais pedidos é algo atípico. "
   ]
  },
  {
   "cell_type": "markdown",
   "metadata": {},
   "source": [
    "### Valores dos Pedidos:"
   ]
  },
  {
   "cell_type": "code",
   "execution_count": 177,
   "metadata": {},
   "outputs": [
    {
     "data": {
      "image/png": "[encoded data removed]",
      "text/plain": [
       "<Figure size 576x432 with 1 Axes>"
      ]
     },
     "metadata": {
      "needs_background": "light"
     },
     "output_type": "display_data"
    }
   ],
   "source": [
    "plt.figure(figsize=(8, 6))\n",
    "\n",
    "plt.scatter(range(len(orders['revenue'])), orders['revenue'], alpha=0.5)\n",
    "plt.title('Preços dos Pedidos')\n",
    "plt.xlabel('')\n",
    "plt.ylabel('Preço')\n",
    "plt.grid(True)\n",
    "plt.show()"
   ]
  },
  {
   "cell_type": "markdown",
   "metadata": {},
   "source": [
    "Grande parte dos pedidos tem valores abaixo de 2500 e há somente dois pedidos acima de 2500. "
   ]
  },
  {
   "cell_type": "markdown",
   "metadata": {},
   "source": [
    "### Valores atípicos de Pedidos:"
   ]
  },
  {
   "cell_type": "code",
   "execution_count": 178,
   "metadata": {},
   "outputs": [
    {
     "name": "stdout",
     "output_type": "stream",
     "text": [
      "[282.48  435.54  900.904]\n"
     ]
    }
   ],
   "source": [
    "print(np.percentile(orders['revenue'], [90, 95, 99])) "
   ]
  },
  {
   "cell_type": "markdown",
   "metadata": {},
   "source": [
    "Valores acima do percentil 99 (900.904) são extremamente atípicos e representam os 1% mais altos dos valores de receita, esses valores são menos comuns de ocorrerem e podem ser considerados como atípicos. Entre os percentis 95 e 99 (435.54 - 900.904) também são relativamente atípicos, mas não tão extremos quanto os acima do percentil 99%."
   ]
  },
  {
   "cell_type": "markdown",
   "metadata": {},
   "source": [
    "### Teste de Normalidade"
   ]
  },
  {
   "cell_type": "code",
   "execution_count": 179,
   "metadata": {},
   "outputs": [
    {
     "name": "stdout",
     "output_type": "stream",
     "text": [
      "Estatística do teste de Shapiro-Wilk: ShapiroResult(statistic=0.10341775417327881, pvalue=0.0)\n",
      "Hipótese nula rejeitada: a distribuição não é normal\n"
     ]
    }
   ],
   "source": [
    "revenue = orders['revenue']\n",
    "\n",
    "alpha = .05\n",
    "\n",
    "results = st.shapiro(revenue)\n",
    "p_value = results[1]\n",
    "\n",
    "print(\"Estatística do teste de Shapiro-Wilk:\", results)\n",
    "if (p_value < alpha):\n",
    "    print(\"Hipótese nula rejeitada: a distribuição não é normal\")\n",
    "else:\n",
    "    print(\"Falha ao rejeitar a hipótese nula: a distribuição parece ser normal\")"
   ]
  },
  {
   "cell_type": "markdown",
   "metadata": {},
   "source": [
    "### Significância estatística da conversão dos dados brutos"
   ]
  },
  {
   "cell_type": "code",
   "execution_count": 180,
   "metadata": {},
   "outputs": [
    {
     "name": "stdout",
     "output_type": "stream",
     "text": [
      "<class 'pandas.core.frame.DataFrame'>\n",
      "RangeIndex: 1197 entries, 0 to 1196\n",
      "Data columns (total 6 columns):\n",
      " #   Column          Non-Null Count  Dtype         \n",
      "---  ------          --------------  -----         \n",
      " 0   transactionId   1197 non-null   int64         \n",
      " 1   visitorId       1197 non-null   int64         \n",
      " 2   date            1197 non-null   datetime64[ns]\n",
      " 3   revenue         1197 non-null   float64       \n",
      " 4   group           1197 non-null   object        \n",
      " 5   avg_order_size  1197 non-null   float64       \n",
      "dtypes: datetime64[ns](1), float64(2), int64(2), object(1)\n",
      "memory usage: 56.2+ KB\n",
      "<class 'pandas.core.frame.DataFrame'>\n",
      "RangeIndex: 62 entries, 0 to 61\n",
      "Data columns (total 3 columns):\n",
      " #   Column  Non-Null Count  Dtype         \n",
      "---  ------  --------------  -----         \n",
      " 0   date    62 non-null     datetime64[ns]\n",
      " 1   group   62 non-null     object        \n",
      " 2   visits  62 non-null     int64         \n",
      "dtypes: datetime64[ns](1), int64(1), object(1)\n",
      "memory usage: 1.6+ KB\n"
     ]
    }
   ],
   "source": [
    "import pandas as pd\n",
    "import scipy.stats as stats\n",
    "import datetime as dt\n",
    "import numpy as np\n",
    "\n",
    "orders.info()\n",
    "\n",
    "visits.info()"
   ]
  },
  {
   "cell_type": "code",
   "execution_count": 181,
   "metadata": {},
   "outputs": [
    {
     "name": "stdout",
     "output_type": "stream",
     "text": [
      "0.017\n",
      "0.138\n"
     ]
    }
   ],
   "source": [
    "ordersByUsersA = orders[orders['group']=='A'].groupby('visitorId', as_index=False).agg({'transactionId' : pd.Series.nunique})\n",
    "ordersByUsersA.columns = ['userId', 'orders']\n",
    "\n",
    "ordersByUsersB = orders[orders['group']=='B'].groupby('visitorId', as_index=False).agg({'transactionId' : pd.Series.nunique})\n",
    "ordersByUsersB.columns = ['userId', 'orders']\n",
    "\n",
    "sampleA = pd.concat([ordersByUsersA['orders'],pd.Series(0, index=np.arange(visits[visits['group']=='A']['visits'].sum() - len(ordersByUsersA['orders'])), name='orders')],axis=0)\n",
    "\n",
    "sampleB = pd.concat([ordersByUsersB['orders'],pd.Series(0, index=np.arange(visits[visits['group']=='B']['visits'].sum() - len(ordersByUsersB['orders'])), name='orders')],axis=0)\n",
    "\n",
    "print(\"{0:.3f}\".format(stats.mannwhitneyu(sampleA, sampleB)[1]))\n",
    "\n",
    "print(\"{0:.3f}\".format(sampleB.mean()/sampleA.mean()-1)) "
   ]
  },
  {
   "cell_type": "markdown",
   "metadata": {},
   "source": [
    "**Resultado do teste de Mann-Whitney U:** O valor-p encontrado (0.017) é menor que o nível de significância comum de 0.05. Portanto, rejeitamos a hipótese nula de que não há diferença entre os grupos. Isso sugere que existe uma diferença estatisticamente significativa entre os grupos A e B em relação ao número de pedidos por usuário.\n",
    "\n",
    "**Diferença relativa entre os grupos:** A diferença relativa mostra que a média de pedidos por usuário no grupo B é aproximadamente 13.8% maior do que no grupo A. Isso indica que, em média, os usuários do grupo B têm uma propensão maior a realizar pedidos do que os do grupo A."
   ]
  },
  {
   "cell_type": "markdown",
   "metadata": {},
   "source": [
    "### Significância estatística da diferença no tamanho médio dos pedidos"
   ]
  },
  {
   "cell_type": "code",
   "execution_count": 182,
   "metadata": {},
   "outputs": [
    {
     "name": "stdout",
     "output_type": "stream",
     "text": [
      "0.692\n",
      "0.252\n"
     ]
    }
   ],
   "source": [
    "print('{0:.3f}'.format(stats.mannwhitneyu(orders[orders['group']=='A']['revenue'], orders[orders['group']=='B']['revenue'])[1]))\n",
    "print('{0:.3f}'.format(orders[orders['group']=='B']['revenue'].mean()/orders[orders['group']=='A']['revenue'].mean()-1)) "
   ]
  },
  {
   "cell_type": "markdown",
   "metadata": {},
   "source": [
    "**Teste de Mann-Whitney U (valor-p = 0.692):** O valor-p encontrado (0.692) é consideravelmente maior que o nível de significância de 0.05. Sendo assim, não temos evidências estatisticamente significativas para rejeitar a hipótese nula, isso sugere que não há uma diferença estatisticamente significativa entre os grupos A e B em relação ao tamanho médio do pedido.\n",
    "\n",
    "**Diferença relativa entre os grupos (25.2%):** A diferença relativa indica que a média de receita por pedido no grupo B é aproximadamente 25.2% maior do que no grupo A.\n"
   ]
  },
  {
   "cell_type": "markdown",
   "metadata": {},
   "source": [
    "### Significância estatística dos grupos filtrados"
   ]
  },
  {
   "cell_type": "markdown",
   "metadata": {},
   "source": [
    "Vamos filtrar os grupos e comparar sua significância estatística sem os valores atípicos. Será definido como usuário anômalo aqueles que realizaram mais de 2 pedidos ou um pedido superior a 435.54, removendo 5% dos usuários com mais pedidos e 5% dos usuários com pedidos mais caros. "
   ]
  },
  {
   "cell_type": "code",
   "execution_count": 183,
   "metadata": {},
   "outputs": [
    {
     "name": "stdout",
     "output_type": "stream",
     "text": [
      "1099    148427295\n",
      "18      199603092\n",
      "928     204675465\n",
      "23      237748145\n",
      "37      249864742\n",
      "dtype: int64\n",
      "(74,)\n"
     ]
    }
   ],
   "source": [
    "usersWithManyOrders = pd.concat([ordersByUsersA[ordersByUsersA['orders'] > 2]['userId'], ordersByUsersB[ordersByUsersB['orders'] > 2]['userId']], axis = 0)\n",
    "usersWithExpensiveOrders = orders[orders['revenue'] > 435.54]['visitorId']\n",
    "abnormalUsers = pd.concat([usersWithManyOrders, usersWithExpensiveOrders], axis = 0).drop_duplicates().sort_values()\n",
    "print(abnormalUsers.head(5))\n",
    "print(abnormalUsers.shape) "
   ]
  },
  {
   "cell_type": "markdown",
   "metadata": {},
   "source": [
    "Temos 74 usuários anômalos no total."
   ]
  },
  {
   "cell_type": "code",
   "execution_count": 184,
   "metadata": {},
   "outputs": [
    {
     "name": "stdout",
     "output_type": "stream",
     "text": [
      "0.013\n",
      "0.173\n"
     ]
    }
   ],
   "source": [
    "sampleAFiltered = pd.concat([ordersByUsersA[np.logical_not(ordersByUsersA['userId'].isin(abnormalUsers))]['orders'],pd.Series(0, index=np.arange(visits[visits['group']=='A']['visits'].sum() - len(ordersByUsersA['orders'])),name='orders')],axis=0)\n",
    "sampleBFiltered = pd.concat([ordersByUsersB[np.logical_not(ordersByUsersB['userId'].isin(abnormalUsers))]['orders'],pd.Series(0, index=np.arange(visits[visits['group']=='B']['visits'].sum() - len(ordersByUsersB['orders'])),name='orders')],axis=0)\n",
    "\n",
    "print(\"{0:.3f}\".format(stats.mannwhitneyu(sampleAFiltered, sampleBFiltered)[1]))\n",
    "print(\"{0:.3f}\".format(sampleBFiltered.mean()/sampleAFiltered.mean()-1)) "
   ]
  },
  {
   "cell_type": "markdown",
   "metadata": {},
   "source": [
    "**Teste de Mann-Whitney U (valor-p = 0.013):** O valor-p (0.013) obtido no teste de Mann-Whitney U é menor que o nível de significância comum de 0.05. Portanto, há evidências estatísticas suficientes para rejeitar a hipótese nula de que não há diferença entre os grupos A e B em relação ao número de pedidos por usuário, mesmo após a exclusão dos usuários com compras excessivas ou pedidos caros.\n",
    "\n",
    "**Diferença relativa entre os grupos (17.3%):** A diferença relativa demonstra que a média de pedidos por usuário no grupo B é aproximadamente 17.3% maior do que no grupo A, mesmo após a exclusão dos usuários considerados anômalos."
   ]
  },
  {
   "cell_type": "markdown",
   "metadata": {},
   "source": [
    "### Significância médio o tamanho do pedido"
   ]
  },
  {
   "cell_type": "code",
   "execution_count": 185,
   "metadata": {},
   "outputs": [
    {
     "name": "stdout",
     "output_type": "stream",
     "text": [
      "0.788\n",
      "-0.019\n"
     ]
    }
   ],
   "source": [
    "print('{0:.3f}'.format(stats.mannwhitneyu(\n",
    "    orders[np.logical_and(\n",
    "        orders['group']=='A',\n",
    "        np.logical_not(orders['visitorId'].isin(abnormalUsers)))]['revenue'],\n",
    "    orders[np.logical_and(\n",
    "        orders['group']=='B',\n",
    "        np.logical_not(orders['visitorId'].isin(abnormalUsers)))]['revenue'])[1]))\n",
    "\n",
    "print('{0:.3f}'.format(\n",
    "    orders[np.logical_and(orders['group']=='B',np.logical_not(orders['visitorId'].isin(abnormalUsers)))]['revenue'].mean()/\n",
    "    orders[np.logical_and(\n",
    "        orders['group']=='A',\n",
    "        np.logical_not(orders['visitorId'].isin(abnormalUsers)))]['revenue'].mean() - 1)) \n"
   ]
  },
  {
   "cell_type": "markdown",
   "metadata": {},
   "source": [
    "**Teste de Mann-Whitney U (valor-p = 0.788):** O valor-p obtido, é consideravelmente maior que o nível de significância comum de 0.05. Portanto, não há evidências suficientes para rejeitar a hipótese nula. Isso sugere que não há uma diferença estatisticamente significativa entre os grupos A e B em relação ao valor médio de compra, após a exclusão dos usuários anômalos.\n",
    "\n",
    "**Diferença relativa entre os grupos (-1.9%):** A diferença relativa indica que a média de volume médio de pedidos no grupo B é aproximadamente 1.9% menor do que no grupo A, após a exclusão dos usuários considerados anômalos."
   ]
  },
  {
   "cell_type": "markdown",
   "metadata": {},
   "source": [
    "## Conclusão"
   ]
  },
  {
   "cell_type": "markdown",
   "metadata": {},
   "source": [
    "***O projeto abrange uma série de etapas desde a coleta, limpeza e preparação dos dados até a interpretação de resultados dos testes estatísticos e insights de negócios.***\n",
    "\n",
    "**Coleta e Limpeza de Dados:** A coleta de dados foi seguida por um processo de limpeza e preparação. Isso incluiu ajustes nos formatos de data para facilitar a análise.\n",
    "\n",
    "**Priorização de Hipóteses:** Utilizando os frameworks ICE e RICE, identificou-se as hipóteses com maior potencial de impacto. As hipóteses com os maiores valores de ICE e RICE foram destacadas como prioritárias para implementação.\n",
    "\n",
    "**Análise dos Resultados do Framework ICE e RICE:** Hipótese 8 ('Launch a promotion that gives users discounts') foi destacada como a de maior potencial, com valores elevados tanto em ICE quanto em RICE. Isso sugere que ela poderia gerar impacto significativo e merece ser priorizada, outras hipóteses com valores consideráveis em ICE e RICE também foram identificadas como potenciais para serem implementadas.\n",
    "\n",
    "**Análise do Teste A/B:** Observamos uma diferença significativa na receita acumulada entre os grupos A e B. Entretanto, foi ressaltado que o Grupo B possuía mais dados do que o Grupo A, o que poderia influenciar nesses resultados. As análises de tamanho médio acumulado de pedidos, conversão diária, diferença relativa entre os grupos, número de pedidos por usuário, e comportamento anômalo em relação à receita foram exploradas.\n",
    "\n",
    "**Testes Estatísticos:** Baseado nos resultados dos testes estatísticos realizados, cada teste mostrou conclusões diferentes:\n",
    "\n",
    "**Teste de Diferença no Número de Pedidos por Usuário:** Existe uma diferença estatisticamente significativa entre os grupos, indicando que o grupo B tem uma média de pedidos por usuário aproximadamente 13.8% maior que o grupo A.\n",
    "\n",
    "**Teste de Tamanho Médio do Pedido:** Não há diferença estatisticamente significativa entre os grupos, mesmo após a exclusão de usuários considerados anômalos. O valor médio de compra no grupo B é aproximadamente 25.2% maior do que no grupo A, mas a diferença não é estatisticamente relevante.\n",
    "\n",
    "**Teste de Receita por Pedido:** Após a exclusão de usuários anômalos, não há evidências estatisticamente significativas para rejeitar a hipótese nula. A diferença relativa entre os grupos sugere que o volume médio de pedidos no grupo B é aproximadamente 1.9% menor do que no grupo A.\n",
    "\n",
    "**Decisão com Base nos Resultados dos Testes:** A diferença estatística no número de pedidos por usuário sugere um comportamento distinto entre os grupos. Não há uma diferença estatística significativa no tamanho médio do pedido entre os grupos, mas há grande diferença no numero de pedidos que foi superior do grupo B.\n",
    "\n",
    "No que diz respeito ao número de pedidos por usuário, o Grupo B mostrou um desempenho superior em relação ao Grupo A, mesmo após a exclusão de usuários anômalos. No que se refere ao tamanho médio do pedido, não há diferença estatisticamente significativa entre os grupos A e B, nem mesmo após a exclusão de usuários anômalos. Portanto, com base nesses resultados, é recomendável **continuar o teste** e monitorar os resultados ao longo do tempo para avaliar se a diferença no número de pedidos por usuário entre os grupos persiste e se impacta positivamente as metas de negócios.\n",
    "É importante manter o teste em andamento para obter insights adicionais e confirmar se o Grupo B realmente se destaca no número de pedidos por usuário, e se isso se reflete ao longo do tempo no tamanho médio do pedido. A análise deve ser contínua para tomar decisões e fazermos um acompanhamento para obter mais dados."
   ]
  }
 ],
 "metadata": {
  "kernelspec": {
   "display_name": "Python 3 (ipykernel)",
   "language": "python",
   "name": "python3"
  },
  "language_info": {
   "codemirror_mode": {
    "name": "ipython",
    "version": 3
   },
   "file_extension": ".py",
   "mimetype": "text/x-python",
   "name": "python",
   "nbconvert_exporter": "python",
   "pygments_lexer": "ipython3",
   "version": "3.9.5"
  },
  "toc": {
   "base_numbering": 1,
   "nav_menu": {},
   "number_sections": true,
   "sideBar": true,
   "skip_h1_title": true,
   "title_cell": "Table of Contents",
   "title_sidebar": "Contents",
   "toc_cell": false,
   "toc_position": {
    "height": "calc(100% - 180px)",
    "left": "10px",
    "top": "150px",
    "width": "272px"
   },
   "toc_section_display": true,
   "toc_window_display": true
  }
 },
 "nbformat": 4,
 "nbformat_minor": 2
}
